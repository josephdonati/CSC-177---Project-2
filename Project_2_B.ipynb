{
  "nbformat": 4,
  "nbformat_minor": 0,
  "metadata": {
    "colab": {
      "name": "Project 2 - B.ipynb",
      "version": "0.3.2",
      "provenance": [],
      "collapsed_sections": []
    },
    "kernelspec": {
      "name": "python3",
      "display_name": "Python 3"
    }
  },
  "cells": [
    {
      "cell_type": "markdown",
      "metadata": {
        "id": "CPTvsJbAzJbh",
        "colab_type": "text"
      },
      "source": [
        "# Project 2 - Part B"
      ]
    },
    {
      "cell_type": "code",
      "metadata": {
        "id": "BPLmTqHszFMh",
        "colab_type": "code",
        "colab": {}
      },
      "source": [
        "import pandas as pd\n",
        "import io\n",
        "import numpy as np\n",
        "import os\n",
        "from sklearn.model_selection import train_test_split\n",
        "\n",
        "#Get file stored in my github\n",
        "url = 'https://raw.githubusercontent.com/josephdonati/CSC-177---Project-2/master/Data/gun_violence_lite.csv'\n",
        "data = pd.read_csv(url)\n",
        "print(\"Data recieved!\")\n",
        "\n",
        "print('Number of instances = %d' % (data.shape[0]))\n",
        "print('Number of attributes = %d' % (data.shape[1]))\n",
        "data.head()"
      ],
      "execution_count": 0,
      "outputs": []
    }
  ]
}